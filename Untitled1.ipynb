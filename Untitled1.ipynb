{
 "cells": [
  {
   "cell_type": "code",
   "execution_count": 10,
   "id": "f04c4fd9",
   "metadata": {},
   "outputs": [],
   "source": [
    "import pandas as pd\n",
    "import numpy as np"
   ]
  },
  {
   "cell_type": "code",
   "execution_count": 11,
   "id": "556649c8",
   "metadata": {},
   "outputs": [
    {
     "data": {
      "text/plain": [
       "array([ 2,  4,  6,  8, 10])"
      ]
     },
     "execution_count": 11,
     "metadata": {},
     "output_type": "execute_result"
    }
   ],
   "source": [
    "lst = [2, 4, 6, 8, 10] #declaring list data1 = np.array(lst) # converting the list to ndarray print (data1)\n",
    "data1 = np.array(lst) # converting the list to ndarray print (data1)\n",
    "data1"
   ]
  },
  {
   "cell_type": "code",
   "execution_count": 20,
   "id": "2b1b554c",
   "metadata": {},
   "outputs": [
    {
     "data": {
      "text/plain": [
       "6"
      ]
     },
     "execution_count": 20,
     "metadata": {},
     "output_type": "execute_result"
    }
   ],
   "source": [
    "list=[1,2,3]\n",
    "np_list = np.array([1,2,3])\n",
    "\n",
    "sum(list)\n",
    "np.sum(np_list)"
   ]
  },
  {
   "cell_type": "code",
   "execution_count": 25,
   "id": "ee3d05cf",
   "metadata": {},
   "outputs": [
    {
     "data": {
      "text/plain": [
       "NAME                  Aafi\n",
       "SUBJECT       Data Science\n",
       "MARK                    98\n",
       "CLASS MODE          ONLINE\n",
       "TUTOR NAME         Melcose\n",
       "dtype: object"
      ]
     },
     "execution_count": 25,
     "metadata": {},
     "output_type": "execute_result"
    }
   ],
   "source": [
    "import pandas as pd\n",
    "import numpy as np\n",
    "studentInfo = {\"NAME\" :\"Aafi\", \"SUBJECT\":\"Data Science\", \"MARK\":98, \"CLASS MODE\": \"ONLINE\", \"TUTOR NAME\" : \"Melcose\"}\n",
    "\n",
    "s = pd.Series(data = studentInfo, index=studentInfo)\n",
    "s"
   ]
  },
  {
   "cell_type": "code",
   "execution_count": 32,
   "id": "e2b6f1b7",
   "metadata": {},
   "outputs": [
    {
     "data": {
      "text/plain": [
       "CLASS MODE          ONLINE\n",
       "MARK                    98\n",
       "NAME                  Aafi\n",
       "SUBJECT       Data Science\n",
       "TUTOR NAME         Melcose\n",
       "dtype: object"
      ]
     },
     "execution_count": 32,
     "metadata": {},
     "output_type": "execute_result"
    }
   ],
   "source": [
    "import pandas as pd\n",
    "import numpy as np\n",
    "studentInfo = {\"NAME\" :\"Aafi\", \"SUBJECT\":\"Data Science\", \"MARK\":98, \"CLASS MODE\": \"ONLINE\", \"TUTOR NAME\" : \"Melcose\"}\n",
    "\n",
    "s = pd.Series(data = studentInfo, index= sorted(studentInfo))\n",
    "s"
   ]
  }
 ],
 "metadata": {
  "kernelspec": {
   "display_name": "Python 3 (ipykernel)",
   "language": "python",
   "name": "python3"
  },
  "language_info": {
   "codemirror_mode": {
    "name": "ipython",
    "version": 3
   },
   "file_extension": ".py",
   "mimetype": "text/x-python",
   "name": "python",
   "nbconvert_exporter": "python",
   "pygments_lexer": "ipython3",
   "version": "3.9.7"
  }
 },
 "nbformat": 4,
 "nbformat_minor": 5
}
