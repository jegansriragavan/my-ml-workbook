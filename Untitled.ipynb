{
 "cells": [
  {
   "cell_type": "code",
   "execution_count": 14,
   "id": "13141fc5",
   "metadata": {},
   "outputs": [],
   "source": [
    "import numpy as np"
   ]
  },
  {
   "cell_type": "code",
   "execution_count": 3,
   "id": "ce61bf4c",
   "metadata": {},
   "outputs": [
    {
     "data": {
      "text/plain": [
       "array([[[1., 1., 1.],\n",
       "        [1., 1., 1.],\n",
       "        [1., 1., 1.],\n",
       "        [1., 1., 1.]],\n",
       "\n",
       "       [[1., 1., 1.],\n",
       "        [1., 1., 1.],\n",
       "        [1., 1., 1.],\n",
       "        [1., 1., 1.]],\n",
       "\n",
       "       [[1., 1., 1.],\n",
       "        [1., 1., 1.],\n",
       "        [1., 1., 1.],\n",
       "        [1., 1., 1.]]])"
      ]
     },
     "execution_count": 3,
     "metadata": {},
     "output_type": "execute_result"
    }
   ],
   "source": [
    "one = np.ones((3,4,3))\n",
    "one"
   ]
  },
  {
   "cell_type": "code",
   "execution_count": 6,
   "id": "91c1100d",
   "metadata": {},
   "outputs": [
    {
     "data": {
      "text/plain": [
       "array([[[[6, 2, 6, 4],\n",
       "         [2, 3, 5, 5],\n",
       "         [7, 4, 6, 3]],\n",
       "\n",
       "        [[7, 4, 2, 2],\n",
       "         [3, 5, 2, 6],\n",
       "         [2, 7, 7, 7]]],\n",
       "\n",
       "\n",
       "       [[[3, 5, 2, 4],\n",
       "         [4, 5, 7, 4],\n",
       "         [2, 4, 6, 5]],\n",
       "\n",
       "        [[5, 5, 4, 7],\n",
       "         [4, 6, 7, 4],\n",
       "         [5, 3, 5, 2]]]])"
      ]
     },
     "execution_count": 6,
     "metadata": {},
     "output_type": "execute_result"
    }
   ],
   "source": [
    "randint = np.random.randint(2,8,size=(2,2,3,4))\n",
    "randint"
   ]
  },
  {
   "cell_type": "code",
   "execution_count": 30,
   "id": "74aa48c5",
   "metadata": {},
   "outputs": [
    {
     "data": {
      "text/plain": [
       "array([2, 3, 4, 5, 6, 7])"
      ]
     },
     "execution_count": 30,
     "metadata": {},
     "output_type": "execute_result"
    }
   ],
   "source": [
    "np.unique(randint)"
   ]
  },
  {
   "cell_type": "markdown",
   "id": "a17708c4",
   "metadata": {},
   "source": [
    "random = np.random.random(10)\n",
    "random"
   ]
  },
  {
   "cell_type": "code",
   "execution_count": null,
   "id": "9e6b2863",
   "metadata": {},
   "outputs": [],
   "source": [
    "randn np.random.randn()"
   ]
  },
  {
   "cell_type": "code",
   "execution_count": 17,
   "id": "7de07b79",
   "metadata": {},
   "outputs": [
    {
     "data": {
      "text/plain": [
       "array([[[0.98689524, 0.70596817],\n",
       "        [0.51138034, 0.59177677],\n",
       "        [0.5835448 , 0.79347929],\n",
       "        [0.63301587, 0.20613629]],\n",
       "\n",
       "       [[0.68815801, 0.74839308],\n",
       "        [0.9423643 , 0.42914851],\n",
       "        [0.45183045, 0.85310554],\n",
       "        [0.5494782 , 0.05478087]],\n",
       "\n",
       "       [[0.0019562 , 0.43261683],\n",
       "        [0.8210506 , 0.80907963],\n",
       "        [0.34004738, 0.44924889],\n",
       "        [0.95091151, 0.7443019 ]],\n",
       "\n",
       "       [[0.9608233 , 0.98475679],\n",
       "        [0.18894351, 0.20654443],\n",
       "        [0.41964265, 0.47754777],\n",
       "        [0.82949301, 0.04003815]],\n",
       "\n",
       "       [[0.52122647, 0.98866007],\n",
       "        [0.58555063, 0.68487972],\n",
       "        [0.6032275 , 0.07788471],\n",
       "        [0.53404651, 0.42952134]]])"
      ]
     },
     "execution_count": 17,
     "metadata": {},
     "output_type": "execute_result"
    }
   ],
   "source": [
    "rand = np.random.rand(5,4,2)\n",
    "rand"
   ]
  },
  {
   "cell_type": "code",
   "execution_count": 25,
   "id": "37c9f8af",
   "metadata": {},
   "outputs": [
    {
     "data": {
      "text/plain": [
       "array([[[0.444701  , 0.09806188],\n",
       "        [0.45544268, 0.50297039],\n",
       "        [0.95846826, 0.20770325]],\n",
       "\n",
       "       [[0.32515903, 0.31657359],\n",
       "        [0.65427833, 0.18431411],\n",
       "        [0.56420384, 0.22457367]]])"
      ]
     },
     "execution_count": 25,
     "metadata": {},
     "output_type": "execute_result"
    }
   ],
   "source": [
    "random = np.random.random((2,3,2))\n",
    "random"
   ]
  },
  {
   "cell_type": "code",
   "execution_count": 29,
   "id": "f86f994c",
   "metadata": {},
   "outputs": [
    {
     "data": {
      "text/plain": [
       "array([[[0.4359949 , 0.02592623],\n",
       "        [0.54966248, 0.43532239],\n",
       "        [0.4203678 , 0.33033482]],\n",
       "\n",
       "       [[0.20464863, 0.61927097],\n",
       "        [0.29965467, 0.26682728],\n",
       "        [0.62113383, 0.52914209]]])"
      ]
     },
     "execution_count": 29,
     "metadata": {},
     "output_type": "execute_result"
    }
   ],
   "source": [
    "np.random.seed(seed=2)\n",
    "random = np.random.random((2,3,2))\n",
    "random"
   ]
  },
  {
   "cell_type": "code",
   "execution_count": 32,
   "id": "b09c59bc",
   "metadata": {},
   "outputs": [
    {
     "data": {
      "text/plain": [
       "array([[4, 4, 2],\n",
       "       [1, 1, 3]])"
      ]
     },
     "execution_count": 32,
     "metadata": {},
     "output_type": "execute_result"
    }
   ],
   "source": [
    "a1 = np.random.randint(1,5,size =(2,3))\n",
    "a1"
   ]
  },
  {
   "cell_type": "code",
   "execution_count": 33,
   "id": "2ecb6c39",
   "metadata": {},
   "outputs": [
    {
     "data": {
      "text/plain": [
       "array([[[3, 4],\n",
       "        [4, 2],\n",
       "        [4, 3]],\n",
       "\n",
       "       [[1, 1],\n",
       "        [3, 1],\n",
       "        [3, 1]]])"
      ]
     },
     "execution_count": 33,
     "metadata": {},
     "output_type": "execute_result"
    }
   ],
   "source": [
    "a2 = np.random.randint(1,5,size =(2,3,2))\n",
    "a2"
   ]
  },
  {
   "cell_type": "code",
   "execution_count": 34,
   "id": "b858637c",
   "metadata": {},
   "outputs": [
    {
     "ename": "ValueError",
     "evalue": "operands could not be broadcast together with shapes (2,3) (2,3,2) ",
     "output_type": "error",
     "traceback": [
      "\u001b[0;31m---------------------------------------------------------------------------\u001b[0m",
      "\u001b[0;31mValueError\u001b[0m                                Traceback (most recent call last)",
      "\u001b[0;32m/var/folders/s3/16rbxknd5pzckk_6rzf_r97h0000gn/T/ipykernel_5081/2010390828.py\u001b[0m in \u001b[0;36m<module>\u001b[0;34m\u001b[0m\n\u001b[0;32m----> 1\u001b[0;31m \u001b[0ma1\u001b[0m\u001b[0;34m*\u001b[0m\u001b[0ma2\u001b[0m\u001b[0;34m\u001b[0m\u001b[0;34m\u001b[0m\u001b[0m\n\u001b[0m",
      "\u001b[0;31mValueError\u001b[0m: operands could not be broadcast together with shapes (2,3) (2,3,2) "
     ]
    }
   ],
   "source": [
    "a1*a2"
   ]
  },
  {
   "cell_type": "code",
   "execution_count": 37,
   "id": "6f66f8d2",
   "metadata": {},
   "outputs": [
    {
     "data": {
      "text/plain": [
       "array([[[3, 4],\n",
       "        [4, 2],\n",
       "        [4, 3]],\n",
       "\n",
       "       [[1, 1],\n",
       "        [3, 1],\n",
       "        [3, 1]]])"
      ]
     },
     "execution_count": 37,
     "metadata": {},
     "output_type": "execute_result"
    }
   ],
   "source": [
    "a2.reshape(2,3,2)"
   ]
  }
 ],
 "metadata": {
  "kernelspec": {
   "display_name": "Python 3 (ipykernel)",
   "language": "python",
   "name": "python3"
  },
  "language_info": {
   "codemirror_mode": {
    "name": "ipython",
    "version": 3
   },
   "file_extension": ".py",
   "mimetype": "text/x-python",
   "name": "python",
   "nbconvert_exporter": "python",
   "pygments_lexer": "ipython3",
   "version": "3.9.7"
  }
 },
 "nbformat": 4,
 "nbformat_minor": 5
}
