{
 "cells": [
  {
   "cell_type": "code",
   "execution_count": 1,
   "id": "582dcf61",
   "metadata": {},
   "outputs": [],
   "source": [
    "import numpy as np\n",
    "import pandas as pd"
   ]
  },
  {
   "cell_type": "markdown",
   "id": "441cd72b",
   "metadata": {},
   "source": [
    "## DataTypes and Arrtibutes"
   ]
  },
  {
   "cell_type": "code",
   "execution_count": 2,
   "id": "ed49724f",
   "metadata": {},
   "outputs": [
    {
     "data": {
      "text/plain": [
       "array([1, 2, 3])"
      ]
     },
     "execution_count": 2,
     "metadata": {},
     "output_type": "execute_result"
    }
   ],
   "source": [
    "# numpy's main data type is ndarray\n",
    "\n",
    "a1 = np.array([1,2,3])\n",
    "a1"
   ]
  },
  {
   "cell_type": "code",
   "execution_count": 3,
   "id": "687f41b3",
   "metadata": {},
   "outputs": [
    {
     "data": {
      "text/plain": [
       "array([[1. , 2.2, 4.5],\n",
       "       [3.2, 5. , 7. ]])"
      ]
     },
     "execution_count": 3,
     "metadata": {},
     "output_type": "execute_result"
    }
   ],
   "source": [
    "a2 = np.array([[1,2.2,4.5],\n",
    "              [3.2,5,7]]) \n",
    "\n",
    "a2"
   ]
  },
  {
   "cell_type": "code",
   "execution_count": 4,
   "id": "ab63fe88",
   "metadata": {},
   "outputs": [
    {
     "data": {
      "text/plain": [
       "array([[[ 1,  2,  3],\n",
       "        [ 4,  5,  6],\n",
       "        [ 7,  8,  9]],\n",
       "\n",
       "       [[10, 11, 12],\n",
       "        [13, 14, 15],\n",
       "        [16, 17, 18]]])"
      ]
     },
     "execution_count": 4,
     "metadata": {},
     "output_type": "execute_result"
    }
   ],
   "source": [
    "a3 = np.array([[[1,2,3],\n",
    "               [4,5,6],\n",
    "               [7,8,9]],\n",
    "              \n",
    "             [[10,11,12],\n",
    "             [13,14,15],\n",
    "             [16,17,18]]])\n",
    "a3"
   ]
  },
  {
   "cell_type": "code",
   "execution_count": 5,
   "id": "b738b9b6",
   "metadata": {},
   "outputs": [
    {
     "data": {
      "text/plain": [
       "((3,), (2, 3), (2, 3, 3))"
      ]
     },
     "execution_count": 5,
     "metadata": {},
     "output_type": "execute_result"
    }
   ],
   "source": [
    "a1.shape,a2.shape,a3.shape"
   ]
  },
  {
   "cell_type": "code",
   "execution_count": 6,
   "id": "6cb3229d",
   "metadata": {},
   "outputs": [
    {
     "data": {
      "text/plain": [
       "(1, 2, 3)"
      ]
     },
     "execution_count": 6,
     "metadata": {},
     "output_type": "execute_result"
    }
   ],
   "source": [
    "a1.ndim,a2.ndim,a3.ndim"
   ]
  },
  {
   "cell_type": "code",
   "execution_count": 7,
   "id": "cab89350",
   "metadata": {},
   "outputs": [
    {
     "data": {
      "text/plain": [
       "(3, 6, 18)"
      ]
     },
     "execution_count": 7,
     "metadata": {},
     "output_type": "execute_result"
    }
   ],
   "source": [
    "a1.size,a2.size,a3.size"
   ]
  },
  {
   "cell_type": "code",
   "execution_count": 8,
   "id": "7e97e858",
   "metadata": {},
   "outputs": [
    {
     "data": {
      "text/plain": [
       "(dtype('int64'), dtype('float64'), dtype('int64'))"
      ]
     },
     "execution_count": 8,
     "metadata": {},
     "output_type": "execute_result"
    }
   ],
   "source": [
    "a1.dtype,a2.dtype,a3.dtype"
   ]
  },
  {
   "cell_type": "code",
   "execution_count": 9,
   "id": "d79a95a1",
   "metadata": {},
   "outputs": [
    {
     "data": {
      "text/plain": [
       "(numpy.ndarray, numpy.ndarray, numpy.ndarray)"
      ]
     },
     "execution_count": 9,
     "metadata": {},
     "output_type": "execute_result"
    }
   ],
   "source": [
    "type(a1),type(a2),type(a3)"
   ]
  },
  {
   "cell_type": "code",
   "execution_count": 10,
   "id": "1a6f0936",
   "metadata": {},
   "outputs": [
    {
     "name": "stdout",
     "output_type": "stream",
     "text": [
      "1.20.3\n"
     ]
    }
   ],
   "source": [
    "print(np.__version__)"
   ]
  },
  {
   "cell_type": "code",
   "execution_count": 11,
   "id": "e151c0df",
   "metadata": {},
   "outputs": [
    {
     "name": "stdout",
     "output_type": "stream",
     "text": [
      "Shape is: (3, 2, 3)\n",
      "Size is : 18\n",
      "No of Dimension 3\n"
     ]
    }
   ],
   "source": [
    "a4 = np.array([[[1,2,3],\n",
    "                 [3,4,5]],\n",
    "                \n",
    "               [[9,10,11],\n",
    "                [12,13,14]],\n",
    "               \n",
    "               [[18,19,20],\n",
    "                [21,22,23]]])\n",
    "\n",
    "print(\"Shape is:\",a4.shape)\n",
    "print(\"Size is :\",a4.size)\n",
    "print(\"No of Dimension\",a4.ndim)"
   ]
  },
  {
   "cell_type": "code",
   "execution_count": 12,
   "id": "633802c3",
   "metadata": {},
   "outputs": [
    {
     "data": {
      "text/plain": [
       "array([[[1., 1., 1.],\n",
       "        [1., 1., 1.],\n",
       "        [1., 1., 1.]],\n",
       "\n",
       "       [[1., 1., 1.],\n",
       "        [1., 1., 1.],\n",
       "        [1., 1., 1.]],\n",
       "\n",
       "       [[1., 1., 1.],\n",
       "        [1., 1., 1.],\n",
       "        [1., 1., 1.]]])"
      ]
     },
     "execution_count": 12,
     "metadata": {},
     "output_type": "execute_result"
    }
   ],
   "source": [
    "one = np.ones((3,3,3))\n",
    "one"
   ]
  },
  {
   "cell_type": "code",
   "execution_count": 13,
   "id": "72a42692",
   "metadata": {},
   "outputs": [
    {
     "data": {
      "text/plain": [
       "array([[0., 0., 0.],\n",
       "       [0., 0., 0.]])"
      ]
     },
     "execution_count": 13,
     "metadata": {},
     "output_type": "execute_result"
    }
   ],
   "source": [
    "zero = np.zeros((2,3))\n",
    "zero"
   ]
  },
  {
   "cell_type": "code",
   "execution_count": 14,
   "id": "8191d8fd",
   "metadata": {},
   "outputs": [
    {
     "data": {
      "text/plain": [
       "array([0, 1, 2, 3, 4, 5, 6, 7, 8, 9])"
      ]
     },
     "execution_count": 14,
     "metadata": {},
     "output_type": "execute_result"
    }
   ],
   "source": [
    "range_array = np.arange(0,10,1)\n",
    "range_array"
   ]
  },
  {
   "cell_type": "code",
   "execution_count": 15,
   "id": "60f24b25",
   "metadata": {},
   "outputs": [
    {
     "data": {
      "text/plain": [
       "array([[[4, 5, 9, 7],\n",
       "        [6, 6, 8, 5],\n",
       "        [5, 9, 4, 9]],\n",
       "\n",
       "       [[7, 4, 4, 3],\n",
       "        [6, 3, 4, 7],\n",
       "        [7, 5, 4, 4]]])"
      ]
     },
     "execution_count": 15,
     "metadata": {},
     "output_type": "execute_result"
    }
   ],
   "source": [
    "random_array = np.random.randint(3,10,size=(2,3,4))\n",
    "random_array"
   ]
  },
  {
   "cell_type": "code",
   "execution_count": 16,
   "id": "0c206e7c",
   "metadata": {},
   "outputs": [
    {
     "data": {
      "text/plain": [
       "array([[0.18810908, 0.57302674, 0.24446081],\n",
       "       [0.71334724, 0.97672767, 0.09603616],\n",
       "       [0.26725925, 0.16239907, 0.53650313],\n",
       "       [0.01350226, 0.39444869, 0.81500238],\n",
       "       [0.98624669, 0.39187289, 0.40455081]])"
      ]
     },
     "execution_count": 16,
     "metadata": {},
     "output_type": "execute_result"
    }
   ],
   "source": [
    "random_array_2 = np.random.random((5,3))\n",
    "random_array_2"
   ]
  },
  {
   "cell_type": "code",
   "execution_count": 17,
   "id": "bddeee93",
   "metadata": {},
   "outputs": [
    {
     "data": {
      "text/plain": [
       "array([[0.89010346, 0.06256761, 0.23016748],\n",
       "       [0.41718033, 0.87883932, 0.93168959],\n",
       "       [0.14785897, 0.52148904, 0.37670453],\n",
       "       [0.4555248 , 0.61333839, 0.23096829],\n",
       "       [0.00099714, 0.92367517, 0.87128628]])"
      ]
     },
     "execution_count": 17,
     "metadata": {},
     "output_type": "execute_result"
    }
   ],
   "source": [
    "random_array_3 = np.random.rand(5,3)\n",
    "random_array_3"
   ]
  },
  {
   "cell_type": "code",
   "execution_count": 18,
   "id": "7c1c1739",
   "metadata": {},
   "outputs": [
    {
     "data": {
      "text/plain": [
       "array([[3, 3, 7],\n",
       "       [8, 6, 2],\n",
       "       [5, 9, 6],\n",
       "       [2, 5, 9],\n",
       "       [6, 6, 7]])"
      ]
     },
     "execution_count": 18,
     "metadata": {},
     "output_type": "execute_result"
    }
   ],
   "source": [
    "# Pesudo-Random numbers\n",
    "# np.random.seed()\n",
    "np.random.seed(seed=28)\n",
    "random_array_4 = np.random.randint(2,10,size=(5,3))\n",
    "random_array_4"
   ]
  },
  {
   "cell_type": "code",
   "execution_count": 19,
   "id": "17d0f83f",
   "metadata": {},
   "outputs": [
    {
     "data": {
      "text/plain": [
       "array([[2, 2, 8],\n",
       "       [4, 5, 6],\n",
       "       [2, 9, 3],\n",
       "       [8, 8, 7],\n",
       "       [6, 4, 5]])"
      ]
     },
     "execution_count": 19,
     "metadata": {},
     "output_type": "execute_result"
    }
   ],
   "source": [
    "#np.random.seed(seed=28)\n",
    "random_array_4 = np.random.randint(2,10,size=(5,3))\n",
    "random_array_4"
   ]
  },
  {
   "cell_type": "markdown",
   "id": "0813ac0d",
   "metadata": {},
   "source": [
    "## Viewing arrary and Matrices "
   ]
  },
  {
   "cell_type": "code",
   "execution_count": 20,
   "id": "ff7c1953",
   "metadata": {},
   "outputs": [
    {
     "data": {
      "text/plain": [
       "array([2, 3, 4, 5, 6, 7, 8, 9])"
      ]
     },
     "execution_count": 20,
     "metadata": {},
     "output_type": "execute_result"
    }
   ],
   "source": [
    "np.unique(random_array_4)    # unique"
   ]
  },
  {
   "cell_type": "code",
   "execution_count": 21,
   "id": "55a3ec2c",
   "metadata": {},
   "outputs": [
    {
     "data": {
      "text/plain": [
       "array([[1. , 2.2, 4.5],\n",
       "       [3.2, 5. , 7. ]])"
      ]
     },
     "execution_count": 21,
     "metadata": {},
     "output_type": "execute_result"
    }
   ],
   "source": [
    "a2"
   ]
  },
  {
   "cell_type": "code",
   "execution_count": 22,
   "id": "67b09bbb",
   "metadata": {},
   "outputs": [
    {
     "data": {
      "text/plain": [
       "(2, 3)"
      ]
     },
     "execution_count": 22,
     "metadata": {},
     "output_type": "execute_result"
    }
   ],
   "source": [
    "a2.shape"
   ]
  },
  {
   "cell_type": "code",
   "execution_count": 23,
   "id": "c0c00e9e",
   "metadata": {},
   "outputs": [
    {
     "data": {
      "text/plain": [
       "array([1. , 2.2, 4.5])"
      ]
     },
     "execution_count": 23,
     "metadata": {},
     "output_type": "execute_result"
    }
   ],
   "source": [
    "a2[0]"
   ]
  },
  {
   "cell_type": "code",
   "execution_count": 24,
   "id": "5aa5d36c",
   "metadata": {},
   "outputs": [
    {
     "data": {
      "text/plain": [
       "array([[[ 1,  2,  3],\n",
       "        [ 4,  5,  6],\n",
       "        [ 7,  8,  9]],\n",
       "\n",
       "       [[10, 11, 12],\n",
       "        [13, 14, 15],\n",
       "        [16, 17, 18]]])"
      ]
     },
     "execution_count": 24,
     "metadata": {},
     "output_type": "execute_result"
    }
   ],
   "source": [
    "a3"
   ]
  },
  {
   "cell_type": "code",
   "execution_count": 25,
   "id": "c775404f",
   "metadata": {},
   "outputs": [
    {
     "data": {
      "text/plain": [
       "array([[[ 1,  2,  3],\n",
       "        [ 4,  5,  6]],\n",
       "\n",
       "       [[10, 11, 12],\n",
       "        [13, 14, 15]]])"
      ]
     },
     "execution_count": 25,
     "metadata": {},
     "output_type": "execute_result"
    }
   ],
   "source": [
    "a3[:2, :2, :3]"
   ]
  },
  {
   "cell_type": "code",
   "execution_count": 26,
   "id": "0b87cb3b",
   "metadata": {},
   "outputs": [
    {
     "data": {
      "text/plain": [
       "array([[[[0, 4, 0, 4, 0],\n",
       "         [4, 2, 4, 4, 4],\n",
       "         [4, 1, 0, 3, 4],\n",
       "         [1, 4, 0, 1, 4]],\n",
       "\n",
       "        [[2, 1, 1, 2, 1],\n",
       "         [2, 1, 2, 2, 2],\n",
       "         [1, 4, 2, 0, 4],\n",
       "         [3, 2, 3, 1, 4]],\n",
       "\n",
       "        [[2, 2, 3, 0, 4],\n",
       "         [3, 3, 3, 1, 3],\n",
       "         [4, 1, 4, 4, 1],\n",
       "         [3, 2, 1, 4, 4]]],\n",
       "\n",
       "\n",
       "       [[[0, 4, 3, 4, 4],\n",
       "         [4, 3, 2, 1, 2],\n",
       "         [4, 4, 2, 0, 3],\n",
       "         [0, 2, 1, 0, 3]],\n",
       "\n",
       "        [[1, 1, 1, 2, 1],\n",
       "         [3, 0, 0, 0, 0],\n",
       "         [1, 2, 3, 4, 2],\n",
       "         [3, 4, 2, 4, 3]],\n",
       "\n",
       "        [[1, 0, 4, 4, 0],\n",
       "         [3, 4, 2, 3, 1],\n",
       "         [1, 2, 0, 2, 0],\n",
       "         [1, 3, 2, 4, 2]]]])"
      ]
     },
     "execution_count": 26,
     "metadata": {},
     "output_type": "execute_result"
    }
   ],
   "source": [
    "a4 = np.random.randint(0,5,size=(2,3,4,5))\n",
    "a4"
   ]
  },
  {
   "cell_type": "code",
   "execution_count": 27,
   "id": "9d9b2081",
   "metadata": {},
   "outputs": [
    {
     "data": {
      "text/plain": [
       "((2, 3, 4, 5), 4)"
      ]
     },
     "execution_count": 27,
     "metadata": {},
     "output_type": "execute_result"
    }
   ],
   "source": [
    "a4.shape,a4.ndim"
   ]
  },
  {
   "cell_type": "code",
   "execution_count": 28,
   "id": "6bcf42a5",
   "metadata": {},
   "outputs": [
    {
     "data": {
      "text/plain": [
       "array([[[[1, 1, 1, 2, 1]]]])"
      ]
     },
     "execution_count": 28,
     "metadata": {},
     "output_type": "execute_result"
    }
   ],
   "source": [
    "a4[1:,1:2,:1,:5]  # Select [1, 2, 3, 3, 0]"
   ]
  },
  {
   "cell_type": "markdown",
   "id": "a51d42fa",
   "metadata": {},
   "source": [
    "##  4. Manipulating and comparing array \n",
    "\n",
    "### Arithmetic "
   ]
  },
  {
   "cell_type": "code",
   "execution_count": 29,
   "id": "61cf973a",
   "metadata": {},
   "outputs": [
    {
     "data": {
      "text/plain": [
       "array([1, 2, 3])"
      ]
     },
     "execution_count": 29,
     "metadata": {},
     "output_type": "execute_result"
    }
   ],
   "source": [
    "a1"
   ]
  },
  {
   "cell_type": "code",
   "execution_count": 30,
   "id": "a40c6ab3",
   "metadata": {},
   "outputs": [
    {
     "data": {
      "text/plain": [
       "array([1., 1., 1.])"
      ]
     },
     "execution_count": 30,
     "metadata": {},
     "output_type": "execute_result"
    }
   ],
   "source": [
    "one = np.ones(3)\n",
    "one"
   ]
  },
  {
   "cell_type": "code",
   "execution_count": 31,
   "id": "833ac976",
   "metadata": {},
   "outputs": [
    {
     "data": {
      "text/plain": [
       "array([2., 3., 4.])"
      ]
     },
     "execution_count": 31,
     "metadata": {},
     "output_type": "execute_result"
    }
   ],
   "source": [
    "a1+one"
   ]
  },
  {
   "cell_type": "code",
   "execution_count": 32,
   "id": "19000d3a",
   "metadata": {},
   "outputs": [
    {
     "data": {
      "text/plain": [
       "array([[ 1. ,  4.4, 13.5],\n",
       "       [ 3.2, 10. , 21. ]])"
      ]
     },
     "execution_count": 32,
     "metadata": {},
     "output_type": "execute_result"
    }
   ],
   "source": [
    "a1*a2"
   ]
  },
  {
   "cell_type": "code",
   "execution_count": 33,
   "id": "d41a0b80",
   "metadata": {},
   "outputs": [
    {
     "ename": "ValueError",
     "evalue": "operands could not be broadcast together with shapes (2,3) (2,3,3) ",
     "output_type": "error",
     "traceback": [
      "\u001b[0;31m---------------------------------------------------------------------------\u001b[0m",
      "\u001b[0;31mValueError\u001b[0m                                Traceback (most recent call last)",
      "\u001b[0;32m/var/folders/s3/16rbxknd5pzckk_6rzf_r97h0000gn/T/ipykernel_2676/2895006387.py\u001b[0m in \u001b[0;36m<module>\u001b[0;34m\u001b[0m\n\u001b[1;32m      1\u001b[0m \u001b[0;31m# How to reshapre a2 to compatible with a3?\u001b[0m\u001b[0;34m\u001b[0m\u001b[0;34m\u001b[0m\u001b[0m\n\u001b[1;32m      2\u001b[0m \u001b[0;34m\u001b[0m\u001b[0m\n\u001b[0;32m----> 3\u001b[0;31m \u001b[0ma2\u001b[0m\u001b[0;34m*\u001b[0m\u001b[0ma3\u001b[0m\u001b[0;34m\u001b[0m\u001b[0;34m\u001b[0m\u001b[0m\n\u001b[0m",
      "\u001b[0;31mValueError\u001b[0m: operands could not be broadcast together with shapes (2,3) (2,3,3) "
     ]
    }
   ],
   "source": [
    "# How to reshapre a2 to compatible with a3?\n",
    "\n",
    "a2*a3"
   ]
  },
  {
   "cell_type": "code",
   "execution_count": 34,
   "id": "ed20ee29",
   "metadata": {},
   "outputs": [
    {
     "data": {
      "text/plain": [
       "array([[ 2. ,  4.2,  7.5],\n",
       "       [ 4.2,  7. , 10. ]])"
      ]
     },
     "execution_count": 34,
     "metadata": {},
     "output_type": "execute_result"
    }
   ],
   "source": [
    "np.add(a1,a2)"
   ]
  },
  {
   "cell_type": "code",
   "execution_count": 35,
   "id": "f01fdfff",
   "metadata": {},
   "outputs": [
    {
     "data": {
      "text/plain": [
       "array([[ 1.  ,  4.84, 20.25],\n",
       "       [10.24, 25.  , 49.  ]])"
      ]
     },
     "execution_count": 35,
     "metadata": {},
     "output_type": "execute_result"
    }
   ],
   "source": [
    "np.square(a2)"
   ]
  },
  {
   "cell_type": "code",
   "execution_count": 36,
   "id": "76a9b72c",
   "metadata": {},
   "outputs": [
    {
     "data": {
      "text/plain": [
       "array([[   2.71828183,    9.0250135 ,   90.0171313 ],\n",
       "       [  24.5325302 ,  148.4131591 , 1096.63315843]])"
      ]
     },
     "execution_count": 36,
     "metadata": {},
     "output_type": "execute_result"
    }
   ],
   "source": [
    "np.exp(a2)"
   ]
  },
  {
   "cell_type": "code",
   "execution_count": 37,
   "id": "389b81ac",
   "metadata": {},
   "outputs": [
    {
     "data": {
      "text/plain": [
       "array([[0.        , 0.78845736, 1.5040774 ],\n",
       "       [1.16315081, 1.60943791, 1.94591015]])"
      ]
     },
     "execution_count": 37,
     "metadata": {},
     "output_type": "execute_result"
    }
   ],
   "source": [
    "np.log(a2)"
   ]
  },
  {
   "cell_type": "markdown",
   "id": "fdddf6d5",
   "metadata": {},
   "source": [
    "## Aggregation\n",
    "#### Aggregation = Performing the same operation on number of things(array)"
   ]
  },
  {
   "cell_type": "code",
   "execution_count": 38,
   "id": "7110f7b4",
   "metadata": {},
   "outputs": [
    {
     "data": {
      "text/plain": [
       "6"
      ]
     },
     "execution_count": 38,
     "metadata": {},
     "output_type": "execute_result"
    }
   ],
   "source": [
    "listy_list=[1,2,3]\n",
    "sum(listy_list)"
   ]
  },
  {
   "cell_type": "code",
   "execution_count": 39,
   "id": "6942c704",
   "metadata": {},
   "outputs": [
    {
     "data": {
      "text/plain": [
       "6"
      ]
     },
     "execution_count": 39,
     "metadata": {},
     "output_type": "execute_result"
    }
   ],
   "source": [
    "sum(a1)"
   ]
  },
  {
   "cell_type": "code",
   "execution_count": 40,
   "id": "3cfdad80",
   "metadata": {},
   "outputs": [
    {
     "data": {
      "text/plain": [
       "6"
      ]
     },
     "execution_count": 40,
     "metadata": {},
     "output_type": "execute_result"
    }
   ],
   "source": [
    "np.sum(a1)"
   ]
  },
  {
   "cell_type": "markdown",
   "id": "dc785827",
   "metadata": {},
   "source": [
    "#### Use Pythom method on (`sum()`) python datatype and NumPy's method on NumPy array(`np.sum()`) "
   ]
  },
  {
   "cell_type": "code",
   "execution_count": 41,
   "id": "1d710dfb",
   "metadata": {},
   "outputs": [
    {
     "data": {
      "text/plain": [
       "10000"
      ]
     },
     "execution_count": 41,
     "metadata": {},
     "output_type": "execute_result"
    }
   ],
   "source": [
    "# Create a massive NumPy array\n",
    "\n",
    "massive_arrary = np.random.random(10000)\n",
    "massive_arrary.size"
   ]
  },
  {
   "cell_type": "code",
   "execution_count": 42,
   "id": "143a3d85",
   "metadata": {},
   "outputs": [
    {
     "data": {
      "text/plain": [
       "array([0.38363211, 0.97884048, 0.38187252, 0.63014968, 0.44335181,\n",
       "       0.02552223, 0.23321525, 0.77924846, 0.16996923, 0.41457111])"
      ]
     },
     "execution_count": 42,
     "metadata": {},
     "output_type": "execute_result"
    }
   ],
   "source": [
    "massive_arrary[:10]"
   ]
  },
  {
   "cell_type": "code",
   "execution_count": 43,
   "id": "aed3f8e0",
   "metadata": {},
   "outputs": [
    {
     "name": "stdout",
     "output_type": "stream",
     "text": [
      "583 µs ± 6.44 µs per loop (mean ± std. dev. of 7 runs, 1000 loops each)\n",
      "5.6 µs ± 110 ns per loop (mean ± std. dev. of 7 runs, 100000 loops each)\n"
     ]
    }
   ],
   "source": [
    "%timeit sum(massive_arrary)       # Python sum()\n",
    "%timeit np.sum(massive_arrary)    # NumPy sum()"
   ]
  },
  {
   "cell_type": "code",
   "execution_count": 44,
   "id": "dd7e0621",
   "metadata": {},
   "outputs": [
    {
     "data": {
      "text/plain": [
       "array([[1. , 2.2, 4.5],\n",
       "       [3.2, 5. , 7. ]])"
      ]
     },
     "execution_count": 44,
     "metadata": {},
     "output_type": "execute_result"
    }
   ],
   "source": [
    "a2"
   ]
  },
  {
   "cell_type": "code",
   "execution_count": 45,
   "id": "f7c90945",
   "metadata": {},
   "outputs": [
    {
     "data": {
      "text/plain": [
       "3.8166666666666664"
      ]
     },
     "execution_count": 45,
     "metadata": {},
     "output_type": "execute_result"
    }
   ],
   "source": [
    "np.mean(a2)"
   ]
  },
  {
   "cell_type": "code",
   "execution_count": 46,
   "id": "db04b2d0",
   "metadata": {},
   "outputs": [
    {
     "data": {
      "text/plain": [
       "(1.0, 7.0)"
      ]
     },
     "execution_count": 46,
     "metadata": {},
     "output_type": "execute_result"
    }
   ],
   "source": [
    "np.min(a2),np.max(a2)"
   ]
  },
  {
   "cell_type": "code",
   "execution_count": 47,
   "id": "13329aba",
   "metadata": {},
   "outputs": [
    {
     "data": {
      "text/plain": [
       "1.954837304966551"
      ]
     },
     "execution_count": 47,
     "metadata": {},
     "output_type": "execute_result"
    }
   ],
   "source": [
    "# Standard deviation = a measure of how a group of numbers is from the mean.\n",
    "\n",
    "np.std(a2) "
   ]
  },
  {
   "cell_type": "code",
   "execution_count": 48,
   "id": "b84140dc",
   "metadata": {},
   "outputs": [
    {
     "data": {
      "text/plain": [
       "3.821388888888889"
      ]
     },
     "execution_count": 48,
     "metadata": {},
     "output_type": "execute_result"
    }
   ],
   "source": [
    "# Variance = measure of the average degree to which each number is different to the mean.\n",
    "# High Variance = wider range of numbers \n",
    "# Low Variance = lower range of numbers\n",
    "\n",
    "np.var(a2)"
   ]
  },
  {
   "cell_type": "code",
   "execution_count": 49,
   "id": "415c8fad",
   "metadata": {},
   "outputs": [
    {
     "data": {
      "text/plain": [
       "1.954837304966551"
      ]
     },
     "execution_count": 49,
     "metadata": {},
     "output_type": "execute_result"
    }
   ],
   "source": [
    "# Standard deviaton = Squareroot of variance \n",
    "\n",
    "np.sqrt(np.var(a2))"
   ]
  },
  {
   "cell_type": "code",
   "execution_count": 50,
   "id": "11b6af30",
   "metadata": {},
   "outputs": [
    {
     "data": {
      "text/plain": [
       "(4296133.472222221, 8.0)"
      ]
     },
     "execution_count": 50,
     "metadata": {},
     "output_type": "execute_result"
    }
   ],
   "source": [
    "# Demo of std and variance\n",
    "high_var_array = np.array([1,100,200,300,4000,5000]) \n",
    "low_var_array = np.array([2,4,6,8,10])\n",
    "np.var(high_var_array),np.var(low_var_array)"
   ]
  },
  {
   "cell_type": "code",
   "execution_count": 51,
   "id": "e286f834",
   "metadata": {},
   "outputs": [
    {
     "data": {
      "text/plain": [
       "(2072.711623024829, 2.8284271247461903)"
      ]
     },
     "execution_count": 51,
     "metadata": {},
     "output_type": "execute_result"
    }
   ],
   "source": [
    "np.std(high_var_array),np.std(low_var_array)"
   ]
  },
  {
   "cell_type": "code",
   "execution_count": 52,
   "id": "0c90da33",
   "metadata": {},
   "outputs": [
    {
     "data": {
      "text/plain": [
       "(1600.1666666666667, 6.0)"
      ]
     },
     "execution_count": 52,
     "metadata": {},
     "output_type": "execute_result"
    }
   ],
   "source": [
    "np.mean(high_var_array),np.mean(low_var_array)"
   ]
  },
  {
   "cell_type": "code",
   "execution_count": 53,
   "id": "3731f91b",
   "metadata": {},
   "outputs": [
    {
     "data": {
      "image/png": "[encoded data removed]",
      "text/plain": [
       "<Figure size 432x288 with 1 Axes>"
      ]
     },
     "metadata": {
      "needs_background": "light"
     },
     "output_type": "display_data"
    }
   ],
   "source": [
    "%matplotlib inline\n",
    "import matplotlib.pyplot as plt\n",
    "plt.hist(high_var_array)\n",
    "plt.show()"
   ]
  },
  {
   "cell_type": "code",
   "execution_count": 54,
   "id": "5644153f",
   "metadata": {},
   "outputs": [
    {
     "data": {
      "image/png": "[encoded data removed]",
      "text/plain": [
       "<Figure size 432x288 with 1 Axes>"
      ]
     },
     "metadata": {
      "needs_background": "light"
     },
     "output_type": "display_data"
    }
   ],
   "source": [
    "plt.hist(low_var_array)\n",
    "plt.show()"
   ]
  },
  {
   "cell_type": "markdown",
   "id": "49f9186d",
   "metadata": {},
   "source": [
    "### Reshaping and Transposing"
   ]
  },
  {
   "cell_type": "code",
   "execution_count": 134,
   "id": "912ed2e8",
   "metadata": {},
   "outputs": [
    {
     "data": {
      "text/plain": [
       "array([[1. , 2.2, 4.5],\n",
       "       [3.2, 5. , 7. ]])"
      ]
     },
     "execution_count": 134,
     "metadata": {},
     "output_type": "execute_result"
    }
   ],
   "source": [
    "a2"
   ]
  },
  {
   "cell_type": "code",
   "execution_count": 135,
   "id": "365bf25b",
   "metadata": {},
   "outputs": [
    {
     "data": {
      "text/plain": [
       "(2, 3)"
      ]
     },
     "execution_count": 135,
     "metadata": {},
     "output_type": "execute_result"
    }
   ],
   "source": [
    "a2.shape"
   ]
  },
  {
   "cell_type": "code",
   "execution_count": 136,
   "id": "357a05dc",
   "metadata": {},
   "outputs": [
    {
     "data": {
      "text/plain": [
       "(array([[[ 1,  2,  3],\n",
       "         [ 4,  5,  6],\n",
       "         [ 7,  8,  9]],\n",
       " \n",
       "        [[10, 11, 12],\n",
       "         [13, 14, 15],\n",
       "         [16, 17, 18]]]),\n",
       " (2, 3, 3))"
      ]
     },
     "execution_count": 136,
     "metadata": {},
     "output_type": "execute_result"
    }
   ],
   "source": [
    "a3,a3.shape"
   ]
  },
  {
   "cell_type": "code",
   "execution_count": 137,
   "id": "a601f61f",
   "metadata": {},
   "outputs": [
    {
     "ename": "ValueError",
     "evalue": "operands could not be broadcast together with shapes (2,3) (2,3,3) ",
     "output_type": "error",
     "traceback": [
      "\u001b[0;31m---------------------------------------------------------------------------\u001b[0m",
      "\u001b[0;31mValueError\u001b[0m                                Traceback (most recent call last)",
      "\u001b[0;32m/var/folders/s3/16rbxknd5pzckk_6rzf_r97h0000gn/T/ipykernel_2676/1739192805.py\u001b[0m in \u001b[0;36m<module>\u001b[0;34m\u001b[0m\n\u001b[0;32m----> 1\u001b[0;31m \u001b[0ma2\u001b[0m\u001b[0;34m*\u001b[0m\u001b[0ma3\u001b[0m\u001b[0;34m\u001b[0m\u001b[0;34m\u001b[0m\u001b[0m\n\u001b[0m",
      "\u001b[0;31mValueError\u001b[0m: operands could not be broadcast together with shapes (2,3) (2,3,3) "
     ]
    }
   ],
   "source": [
    "a2*a3"
   ]
  },
  {
   "cell_type": "code",
   "execution_count": 139,
   "id": "6972accc",
   "metadata": {},
   "outputs": [],
   "source": [
    "a2_reshape  = a2.reshape(2,3,1)  # Reshaping"
   ]
  },
  {
   "cell_type": "code",
   "execution_count": 140,
   "id": "0cb46fb0",
   "metadata": {},
   "outputs": [
    {
     "data": {
      "text/plain": [
       "array([[[  1. ,   2. ,   3. ],\n",
       "        [  8.8,  11. ,  13.2],\n",
       "        [ 31.5,  36. ,  40.5]],\n",
       "\n",
       "       [[ 32. ,  35.2,  38.4],\n",
       "        [ 65. ,  70. ,  75. ],\n",
       "        [112. , 119. , 126. ]]])"
      ]
     },
     "execution_count": 140,
     "metadata": {},
     "output_type": "execute_result"
    }
   ],
   "source": [
    "a2_reshape * a3"
   ]
  },
  {
   "cell_type": "code",
   "execution_count": null,
   "id": "5b649b71",
   "metadata": {},
   "outputs": [],
   "source": [
    "# Transpose = switches the 'Axis'\n",
    "\n",
    "a2,a2.shape"
   ]
  },
  {
   "cell_type": "code",
   "execution_count": null,
   "id": "3104989e",
   "metadata": {},
   "outputs": [],
   "source": [
    "a2.T"
   ]
  },
  {
   "cell_type": "code",
   "execution_count": null,
   "id": "0a87c8b5",
   "metadata": {},
   "outputs": [],
   "source": [
    "a2.T.shape"
   ]
  },
  {
   "cell_type": "markdown",
   "id": "53aaec35",
   "metadata": {},
   "source": [
    "### Dot Prodcut"
   ]
  },
  {
   "cell_type": "code",
   "execution_count": 86,
   "id": "ff980e4c",
   "metadata": {},
   "outputs": [],
   "source": [
    "np.random.seed(1)\n",
    "\n",
    "mat1 = np.random.randint(10,size=(5,3))\n",
    "mat2 = np.random.randint(10,size=(5,3))"
   ]
  },
  {
   "cell_type": "code",
   "execution_count": 87,
   "id": "6179dcc0",
   "metadata": {},
   "outputs": [
    {
     "data": {
      "text/plain": [
       "array([[5, 8, 9],\n",
       "       [5, 0, 0],\n",
       "       [1, 7, 6],\n",
       "       [9, 2, 4],\n",
       "       [5, 2, 4]])"
      ]
     },
     "execution_count": 87,
     "metadata": {},
     "output_type": "execute_result"
    }
   ],
   "source": [
    "mat1"
   ]
  },
  {
   "cell_type": "code",
   "execution_count": 88,
   "id": "2014fee3",
   "metadata": {},
   "outputs": [
    {
     "data": {
      "text/plain": [
       "array([[2, 4, 7],\n",
       "       [7, 9, 1],\n",
       "       [7, 0, 6],\n",
       "       [9, 9, 7],\n",
       "       [6, 9, 1]])"
      ]
     },
     "execution_count": 88,
     "metadata": {},
     "output_type": "execute_result"
    }
   ],
   "source": [
    "mat2"
   ]
  },
  {
   "cell_type": "code",
   "execution_count": null,
   "id": "5918c509",
   "metadata": {},
   "outputs": [],
   "source": [
    "# Element-wise multiplication (Hardamard product)\n",
    "mat1*mat2"
   ]
  },
  {
   "cell_type": "code",
   "execution_count": null,
   "id": "c28e53e8",
   "metadata": {},
   "outputs": [],
   "source": [
    "# Dot product\n",
    "np.dot(mat1,mat2)"
   ]
  },
  {
   "cell_type": "code",
   "execution_count": null,
   "id": "5f41c495",
   "metadata": {},
   "outputs": [],
   "source": [
    "# Transpose mat1\n",
    "mat1.T"
   ]
  },
  {
   "cell_type": "code",
   "execution_count": null,
   "id": "a9d5728a",
   "metadata": {},
   "outputs": [],
   "source": [
    "mat1.T.shape ,mat2.shape"
   ]
  },
  {
   "cell_type": "code",
   "execution_count": null,
   "id": "85615c9f",
   "metadata": {},
   "outputs": [],
   "source": [
    "mat3 = np.dot(mat1.T,mat2)\n",
    "mat3"
   ]
  },
  {
   "cell_type": "markdown",
   "id": "778ba04f",
   "metadata": {},
   "source": [
    "## Dot Product example(nut butter sales) "
   ]
  },
  {
   "cell_type": "code",
   "execution_count": null,
   "id": "caa987b7",
   "metadata": {},
   "outputs": [],
   "source": [
    "# Number of Jar sold\n",
    "np.random.seed(1)\n",
    "sales_amt = np.random.randint(18,size=(5,3))\n",
    "sales_amt"
   ]
  },
  {
   "cell_type": "code",
   "execution_count": null,
   "id": "07cdb89c",
   "metadata": {},
   "outputs": [],
   "source": [
    "# Create Weekly_sales DataFrame\n",
    "\n",
    "weekly_sales = pd.DataFrame(sales_amt,index=[\"Mon\",\"Tue\",\"Wed\",\"Thr\",\"Fri\"],\n",
    "                            columns=[\"Almond Butter\",\"Peanut Butter\",\"Cashew Butter\"])\n",
    "weekly_sales\n"
   ]
  },
  {
   "cell_type": "code",
   "execution_count": null,
   "id": "7013b3dc",
   "metadata": {},
   "outputs": [],
   "source": [
    "# Create Price array \n",
    "prices = np.array([10,8,12])\n",
    "prices"
   ]
  },
  {
   "cell_type": "code",
   "execution_count": null,
   "id": "6c0807d1",
   "metadata": {},
   "outputs": [],
   "source": [
    "price.shape\n"
   ]
  },
  {
   "cell_type": "code",
   "execution_count": null,
   "id": "b0dda17c",
   "metadata": {},
   "outputs": [],
   "source": [
    "# Create butter price DataFrame\n",
    "\n",
    "butter_prices = pd.DataFrame(price.reshape(1,3),index=[\"Price\"],\n",
    "                         columns=[\"Almond Butter\",\"Peanut Butter\",\"Cashew Butter\"])\n",
    "\n",
    "butter_prices"
   ]
  },
  {
   "cell_type": "code",
   "execution_count": null,
   "id": "703fb543",
   "metadata": {},
   "outputs": [],
   "source": [
    "prices"
   ]
  },
  {
   "cell_type": "code",
   "execution_count": null,
   "id": "1f037a8a",
   "metadata": {},
   "outputs": [],
   "source": [
    "total_sales = prices.dot(sales_amt)\n",
    "total_sales"
   ]
  },
  {
   "cell_type": "code",
   "execution_count": null,
   "id": "d89ce76a",
   "metadata": {},
   "outputs": [],
   "source": [
    "# Shapes are not aligned, Let's Transpose \n",
    "total_sales = prices.dot(sales_amt.T)\n",
    "total_sales"
   ]
  },
  {
   "cell_type": "code",
   "execution_count": null,
   "id": "2a4e72c1",
   "metadata": {},
   "outputs": [],
   "source": [
    "# Create Daily sales\n",
    "butter_prices"
   ]
  },
  {
   "cell_type": "code",
   "execution_count": null,
   "id": "706dffeb",
   "metadata": {},
   "outputs": [],
   "source": [
    "weekly_sales"
   ]
  },
  {
   "cell_type": "code",
   "execution_count": null,
   "id": "002cce62",
   "metadata": {},
   "outputs": [],
   "source": [
    "butter_prices.shape,weekly_sales.shape"
   ]
  },
  {
   "cell_type": "code",
   "execution_count": null,
   "id": "08268281",
   "metadata": {},
   "outputs": [],
   "source": [
    "daily_sales = butter_prices.dot(weekly_sales.T)\n",
    "daily_sales"
   ]
  },
  {
   "cell_type": "code",
   "execution_count": null,
   "id": "e3428d2b",
   "metadata": {},
   "outputs": [],
   "source": [
    "daily_sales.shape,weekly_sales.shape"
   ]
  },
  {
   "cell_type": "code",
   "execution_count": null,
   "id": "6102538f",
   "metadata": {},
   "outputs": [],
   "source": [
    "# Does'nt work not the right shape\n",
    "weekly_sales[\"Total \\$\"] = daily_sales\n",
    "weekly_sales            "
   ]
  },
  {
   "cell_type": "code",
   "execution_count": null,
   "id": "ad2f475a",
   "metadata": {},
   "outputs": [],
   "source": [
    "weekly_sales[\"Total ($)\"] = daily_sales.T\n",
    "weekly_sales"
   ]
  },
  {
   "cell_type": "markdown",
   "id": "8ddaa151",
   "metadata": {},
   "source": [
    "### Comparision operators "
   ]
  },
  {
   "cell_type": "code",
   "execution_count": null,
   "id": "9a0cb5e2",
   "metadata": {},
   "outputs": [],
   "source": [
    "a1"
   ]
  },
  {
   "cell_type": "code",
   "execution_count": null,
   "id": "e4ae3eca",
   "metadata": {},
   "outputs": [],
   "source": [
    "a2"
   ]
  },
  {
   "cell_type": "code",
   "execution_count": null,
   "id": "d8e98cd1",
   "metadata": {},
   "outputs": [],
   "source": [
    "a1 > a2"
   ]
  },
  {
   "cell_type": "code",
   "execution_count": null,
   "id": "1c251fc0",
   "metadata": {},
   "outputs": [],
   "source": [
    "a1 >= a2"
   ]
  },
  {
   "cell_type": "code",
   "execution_count": null,
   "id": "f5ed59fe",
   "metadata": {},
   "outputs": [],
   "source": [
    "bool_array = a1 >= a2\n",
    "bool_array.dtype , type(bool_array)"
   ]
  },
  {
   "cell_type": "code",
   "execution_count": null,
   "id": "1d9250a8",
   "metadata": {},
   "outputs": [],
   "source": [
    "a1 > 5"
   ]
  },
  {
   "cell_type": "code",
   "execution_count": null,
   "id": "dad66376",
   "metadata": {},
   "outputs": [],
   "source": [
    "a1 < 5"
   ]
  },
  {
   "cell_type": "code",
   "execution_count": null,
   "id": "c0075a82",
   "metadata": {},
   "outputs": [],
   "source": [
    "a1 == a1"
   ]
  },
  {
   "cell_type": "code",
   "execution_count": null,
   "id": "df1c5309",
   "metadata": {},
   "outputs": [],
   "source": [
    "a1 == a2"
   ]
  },
  {
   "cell_type": "markdown",
   "id": "c9ef8468",
   "metadata": {},
   "source": [
    "### Sorting Array"
   ]
  },
  {
   "cell_type": "code",
   "execution_count": null,
   "id": "b7e0efc9",
   "metadata": {},
   "outputs": [],
   "source": [
    "random_array = np.random.randint(9,size=(3,5))\n",
    "random_array"
   ]
  },
  {
   "cell_type": "code",
   "execution_count": null,
   "id": "710a98a3",
   "metadata": {},
   "outputs": [],
   "source": [
    "np.sort(random_array) # Sort based of the value"
   ]
  },
  {
   "cell_type": "code",
   "execution_count": null,
   "id": "8fac9a90",
   "metadata": {},
   "outputs": [],
   "source": [
    "np.argsort(random_array) # Argsort do the sorting of the index base on value"
   ]
  },
  {
   "cell_type": "code",
   "execution_count": null,
   "id": "a53a26c0",
   "metadata": {},
   "outputs": [],
   "source": [
    "a1"
   ]
  },
  {
   "cell_type": "code",
   "execution_count": null,
   "id": "a499ee32",
   "metadata": {},
   "outputs": [],
   "source": [
    "np.argsort(a1)"
   ]
  },
  {
   "cell_type": "code",
   "execution_count": null,
   "id": "b16c728a",
   "metadata": {},
   "outputs": [],
   "source": [
    "np.argmin(a1),np.argmax(a1)"
   ]
  },
  {
   "cell_type": "code",
   "execution_count": null,
   "id": "f58b4d20",
   "metadata": {},
   "outputs": [],
   "source": [
    "random_array"
   ]
  },
  {
   "cell_type": "code",
   "execution_count": null,
   "id": "28727411",
   "metadata": {},
   "outputs": [],
   "source": [
    "np.argmin(random_array,axis=0) # axis=0 is Raw "
   ]
  },
  {
   "cell_type": "code",
   "execution_count": null,
   "id": "03308482",
   "metadata": {},
   "outputs": [],
   "source": [
    "np.argmin(random_array,axis=1) # axis=1 is Column  "
   ]
  },
  {
   "cell_type": "markdown",
   "id": "1212bfd3",
   "metadata": {},
   "source": [
    "# 6. Practical Example- NumPy in action...!!! "
   ]
  },
  {
   "cell_type": "markdown",
   "id": "3c0d4be0",
   "metadata": {},
   "source": [
    "<img src=\"images/panda.png/\">"
   ]
  },
  {
   "cell_type": "code",
   "execution_count": null,
   "id": "7895c1f1",
   "metadata": {},
   "outputs": [],
   "source": [
    "# Turn an image to a NumPy array\n",
    "from matplotlib.image import imread \n",
    "\n",
    "panda = imread(\"images/panda.png\")\n",
    "panda.size,panda.shape,panda.ndim"
   ]
  },
  {
   "cell_type": "code",
   "execution_count": null,
   "id": "6bed1aa2",
   "metadata": {},
   "outputs": [],
   "source": [
    "panda[:1]"
   ]
  },
  {
   "cell_type": "markdown",
   "id": "0fd4f004",
   "metadata": {},
   "source": [
    "<img src=\"images/car-photo.png\">"
   ]
  },
  {
   "cell_type": "code",
   "execution_count": null,
   "id": "1a6373f5",
   "metadata": {},
   "outputs": [],
   "source": [
    "car = imread(\"images/car-photo.png\")\n",
    "car.size,car.shape,car.ndim"
   ]
  },
  {
   "cell_type": "code",
   "execution_count": null,
   "id": "ac01689b",
   "metadata": {},
   "outputs": [],
   "source": [
    "car[:1]"
   ]
  },
  {
   "cell_type": "markdown",
   "id": "87207029",
   "metadata": {},
   "source": [
    "<img src=\"images/dog-photo.png/\">"
   ]
  },
  {
   "cell_type": "code",
   "execution_count": null,
   "id": "eda7297e",
   "metadata": {},
   "outputs": [],
   "source": [
    "dog = imread(\"images/dog-photo.png\")\n",
    "dog"
   ]
  },
  {
   "cell_type": "code",
   "execution_count": 77,
   "id": "3f39f6ac",
   "metadata": {},
   "outputs": [
    {
     "data": {
      "text/plain": [
       "(3,)"
      ]
     },
     "execution_count": 77,
     "metadata": {},
     "output_type": "execute_result"
    }
   ],
   "source": [
    "a= np.array([[1,2,3],\n",
    "             [4,5,6]])\n",
    "\n",
    "#b= np.array([4,5,6])\n",
    "\n",
    "axis0 =np.sum(a,axis=0)\n",
    "axis.shape"
   ]
  },
  {
   "cell_type": "code",
   "execution_count": 76,
   "id": "f247fece",
   "metadata": {},
   "outputs": [
    {
     "data": {
      "text/plain": [
       "(2,)"
      ]
     },
     "execution_count": 76,
     "metadata": {},
     "output_type": "execute_result"
    }
   ],
   "source": [
    "axis1 = np.sum(a,axis=1)\n",
    "axis1.shape"
   ]
  },
  {
   "cell_type": "code",
   "execution_count": 81,
   "id": "a93efbfa",
   "metadata": {},
   "outputs": [
    {
     "data": {
      "text/plain": [
       "5"
      ]
     },
     "execution_count": 81,
     "metadata": {},
     "output_type": "execute_result"
    }
   ],
   "source": [
    "a = np.random.randint(2,10,)\n",
    "a"
   ]
  },
  {
   "cell_type": "markdown",
   "id": "bd05033c",
   "metadata": {},
   "source": [
    "# DSIT"
   ]
  },
  {
   "cell_type": "markdown",
   "id": "1de0b69b",
   "metadata": {},
   "source": [
    "a =np.array([[10, 80, 1,1], \n",
    "     [100, 800,2,1], \n",
    "     [4,8,3,1]])\n",
    "a.shape"
   ]
  },
  {
   "cell_type": "code",
   "execution_count": 129,
   "id": "5fab470c",
   "metadata": {},
   "outputs": [
    {
     "data": {
      "text/plain": [
       "array([[[[[0, 4],\n",
       "          [4, 9],\n",
       "          [9, 4]],\n",
       "\n",
       "         [[1, 5],\n",
       "          [9, 9],\n",
       "          [6, 2]],\n",
       "\n",
       "         [[0, 2],\n",
       "          [3, 9],\n",
       "          [8, 8]]],\n",
       "\n",
       "\n",
       "        [[[4, 8],\n",
       "          [2, 6],\n",
       "          [4, 6]],\n",
       "\n",
       "         [[4, 5],\n",
       "          [7, 0],\n",
       "          [5, 5]],\n",
       "\n",
       "         [[3, 8],\n",
       "          [2, 0],\n",
       "          [5, 3]]],\n",
       "\n",
       "\n",
       "        [[[8, 8],\n",
       "          [5, 8],\n",
       "          [7, 4]],\n",
       "\n",
       "         [[9, 5],\n",
       "          [5, 0],\n",
       "          [7, 1]],\n",
       "\n",
       "         [[4, 4],\n",
       "          [8, 2],\n",
       "          [2, 6]]],\n",
       "\n",
       "\n",
       "        [[[7, 1],\n",
       "          [5, 3],\n",
       "          [8, 4]],\n",
       "\n",
       "         [[0, 4],\n",
       "          [0, 5],\n",
       "          [9, 7]],\n",
       "\n",
       "         [[9, 5],\n",
       "          [9, 5],\n",
       "          [9, 7]]]],\n",
       "\n",
       "\n",
       "\n",
       "       [[[[2, 4],\n",
       "          [2, 9],\n",
       "          [4, 0]],\n",
       "\n",
       "         [[5, 3],\n",
       "          [9, 7],\n",
       "          [4, 6]],\n",
       "\n",
       "         [[0, 0],\n",
       "          [4, 1],\n",
       "          [3, 4]]],\n",
       "\n",
       "\n",
       "        [[[1, 6],\n",
       "          [3, 2],\n",
       "          [4, 2]],\n",
       "\n",
       "         [[6, 7],\n",
       "          [1, 0],\n",
       "          [0, 8]],\n",
       "\n",
       "         [[5, 2],\n",
       "          [9, 7],\n",
       "          [5, 5]]],\n",
       "\n",
       "\n",
       "        [[[7, 2],\n",
       "          [0, 8],\n",
       "          [3, 2]],\n",
       "\n",
       "         [[7, 8],\n",
       "          [3, 5],\n",
       "          [0, 6]],\n",
       "\n",
       "         [[0, 8],\n",
       "          [1, 9],\n",
       "          [6, 3]]],\n",
       "\n",
       "\n",
       "        [[[4, 8],\n",
       "          [7, 5],\n",
       "          [9, 5]],\n",
       "\n",
       "         [[2, 0],\n",
       "          [6, 0],\n",
       "          [6, 4]],\n",
       "\n",
       "         [[5, 9],\n",
       "          [5, 2],\n",
       "          [0, 6]]]]])"
      ]
     },
     "execution_count": 129,
     "metadata": {},
     "output_type": "execute_result"
    }
   ],
   "source": [
    "test = np.random.randint(10,size=(2,4,3,3,2))\n",
    "test"
   ]
  },
  {
   "cell_type": "code",
   "execution_count": 130,
   "id": "07dd3d27",
   "metadata": {},
   "outputs": [
    {
     "data": {
      "text/plain": [
       "5"
      ]
     },
     "execution_count": 130,
     "metadata": {},
     "output_type": "execute_result"
    }
   ],
   "source": [
    "test.ndim"
   ]
  },
  {
   "cell_type": "code",
   "execution_count": 131,
   "id": "d204584d",
   "metadata": {},
   "outputs": [
    {
     "data": {
      "text/plain": [
       "(2, 4, 3, 3, 2)"
      ]
     },
     "execution_count": 131,
     "metadata": {},
     "output_type": "execute_result"
    }
   ],
   "source": [
    "test.shape"
   ]
  },
  {
   "cell_type": "code",
   "execution_count": 126,
   "id": "af2a865c",
   "metadata": {},
   "outputs": [
    {
     "data": {
      "text/plain": [
       "array([1, 2, 6])"
      ]
     },
     "execution_count": 126,
     "metadata": {},
     "output_type": "execute_result"
    }
   ],
   "source": [
    "test[3][2]"
   ]
  },
  {
   "cell_type": "code",
   "execution_count": null,
   "id": "23017343",
   "metadata": {},
   "outputs": [],
   "source": []
  },
  {
   "cell_type": "code",
   "execution_count": null,
   "id": "42294c7c",
   "metadata": {},
   "outputs": [],
   "source": []
  },
  {
   "cell_type": "code",
   "execution_count": null,
   "id": "0235bda7",
   "metadata": {},
   "outputs": [],
   "source": []
  },
  {
   "cell_type": "code",
   "execution_count": null,
   "id": "dcdc86af",
   "metadata": {},
   "outputs": [],
   "source": []
  },
  {
   "cell_type": "code",
   "execution_count": null,
   "id": "cc24734c",
   "metadata": {},
   "outputs": [],
   "source": []
  }
 ],
 "metadata": {
  "kernelspec": {
   "display_name": "Python 3 (ipykernel)",
   "language": "python",
   "name": "python3"
  },
  "language_info": {
   "codemirror_mode": {
    "name": "ipython",
    "version": 3
   },
   "file_extension": ".py",
   "mimetype": "text/x-python",
   "name": "python",
   "nbconvert_exporter": "python",
   "pygments_lexer": "ipython3",
   "version": "3.9.7"
  }
 },
 "nbformat": 4,
 "nbformat_minor": 5
}
