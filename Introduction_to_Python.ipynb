{
 "cells": [
  {
   "cell_type": "code",
   "execution_count": 1,
   "id": "45186d42",
   "metadata": {},
   "outputs": [
    {
     "name": "stdout",
     "output_type": "stream",
     "text": [
      "6\n"
     ]
    }
   ],
   "source": [
    "# Augmented Assignment Operator\n",
    "a= 1 \n",
    "a += 5\n",
    "print(a)"
   ]
  },
  {
   "cell_type": "code",
   "execution_count": 2,
   "id": "95af7452",
   "metadata": {},
   "outputs": [
    {
     "name": "stdout",
     "output_type": "stream",
     "text": [
      "8\n",
      "mb\n",
      "allerb\n",
      "\n"
     ]
    }
   ],
   "source": [
    "# Slicing \n",
    "\n",
    "a = \"umbrella\"\n",
    "print(len(a))\n",
    "print(a[1:3])\n",
    "print(a[:1:-1])\n",
    "print(a[1:len(a):-1])"
   ]
  },
  {
   "cell_type": "code",
   "execution_count": 3,
   "id": "c685f793",
   "metadata": {},
   "outputs": [
    {
     "name": "stdout",
     "output_type": "stream",
     "text": [
      "Enter the year you born:1988\n",
      "Your age is: 33 \n"
     ]
    }
   ],
   "source": [
    "# your age ?\n",
    "\n",
    "current_year = 2021\n",
    "birth_date = int(input(\"Enter the year you born:\"))\n",
    "age = current_year - birth_date\n",
    "print(f\"Your age is: {age} \")"
   ]
  },
  {
   "cell_type": "code",
   "execution_count": 4,
   "id": "54577fd4",
   "metadata": {},
   "outputs": [
    {
     "data": {
      "text/plain": [
       "2"
      ]
     },
     "execution_count": 4,
     "metadata": {},
     "output_type": "execute_result"
    }
   ],
   "source": [
    "# List\n",
    "\n",
    "cart = [1,2,3,4,5,1]\n",
    "\n",
    "new_list = cart.append(100)\n",
    "new_list = cart.insert(5,200)\n",
    "cart.extend([3,\"Jegan\"])\n",
    "# cart.pop(3)\n",
    "# a = cart.pop() # remove the valeue by index\n",
    "# cart.remove(5) # remove the value\n",
    "# print(cart)\n",
    "# print(a)\n",
    "# print(cart.index(100))\n",
    "# print(cart.index(200,0,4)\n",
    "cart.count(1)\n"
   ]
  },
  {
   "cell_type": "code",
   "execution_count": 7,
   "id": "67c19211",
   "metadata": {},
   "outputs": [
    {
     "data": {
      "text/plain": [
       "[1, 1, 2, 3, 3, 4, 5, 100, 200]"
      ]
     },
     "execution_count": 7,
     "metadata": {},
     "output_type": "execute_result"
    }
   ],
   "source": [
    "cart.remove(\"Jegan\")\n",
    "cart.sort()\n",
    "cart"
   ]
  },
  {
   "cell_type": "code",
   "execution_count": 15,
   "id": "a02d941c",
   "metadata": {},
   "outputs": [
    {
     "name": "stdout",
     "output_type": "stream",
     "text": [
      "MY\n",
      "Name\n",
      "Is\n",
      "Jegan\n",
      "MY>>Name>>Is>>Jegan\n"
     ]
    }
   ],
   "source": [
    "# .Join()\n",
    "a = [\"MY\",\"Name\",\"Is\",\"Jegan\"]\n",
    "print(\"\\n\".join(a))\n",
    "b = \">>\".join(a)\n",
    "print(b)"
   ]
  },
  {
   "cell_type": "code",
   "execution_count": 29,
   "id": "033d3907",
   "metadata": {},
   "outputs": [
    {
     "name": "stdout",
     "output_type": "stream",
     "text": [
      "1\n",
      "2\n",
      "3\n",
      "7\n"
     ]
    }
   ],
   "source": [
    "#Unpacking \n",
    "\n",
    "a,b,c,*other,d = [1,2,3,4,5,6,7]\n",
    "print(a)\n",
    "print(b)\n",
    "print(c)\n",
    "print(d)"
   ]
  },
  {
   "cell_type": "code",
   "execution_count": 37,
   "id": "fffa6e95",
   "metadata": {},
   "outputs": [
    {
     "name": "stdout",
     "output_type": "stream",
     "text": [
      "{1: 'Baasha', 2: 'Suji', 3: 'Tharun', 4: 'Swetha', 5: 'Kishore'}\n",
      "<class 'dict'>\n",
      "Baasha\n",
      "Invalid user\n"
     ]
    }
   ],
   "source": [
    "# Dictionary\n",
    "\n",
    "roll_number  = {1:\"Jegan\",2:\"Suji\",3:\"Tharun\",4:\"Swetha\",5:\"Kishore\",1:\"Baasha\"}\n",
    "\n",
    "print(roll_number)\n",
    "print(type(roll_number))\n",
    "print(roll_number[1])\n",
    "print(roll_number.get(10,\"Invalid user\"))\n"
   ]
  },
  {
   "cell_type": "code",
   "execution_count": 2,
   "id": "246f23cd",
   "metadata": {},
   "outputs": [
    {
     "name": "stdout",
     "output_type": "stream",
     "text": [
      "1 2 3 4 5 "
     ]
    }
   ],
   "source": [
    "# Loops\n",
    "\n",
    "for item in [1,2,3,4,5]:\n",
    "    print(item,end = \" \")"
   ]
  },
  {
   "cell_type": "code",
   "execution_count": 3,
   "id": "5adc357d",
   "metadata": {},
   "outputs": [
    {
     "name": "stdout",
     "output_type": "stream",
     "text": [
      "name Jegan\n",
      "age 30\n",
      "married True\n"
     ]
    }
   ],
   "source": [
    "user = {\"name\":\"Jegan\",\n",
    "       \"age\":30,\n",
    "       \"married\": True}\n",
    "\n",
    "for k,v in user.items():\n",
    "    print(k,v)"
   ]
  },
  {
   "cell_type": "code",
   "execution_count": 7,
   "id": "d6af722c",
   "metadata": {},
   "outputs": [
    {
     "name": "stdout",
     "output_type": "stream",
     "text": [
      "name\n",
      "age\n",
      "married\n"
     ]
    }
   ],
   "source": [
    "for k in user.keys():\n",
    "    print(k)"
   ]
  },
  {
   "cell_type": "code",
   "execution_count": 8,
   "id": "d7c8289b",
   "metadata": {},
   "outputs": [
    {
     "name": "stdout",
     "output_type": "stream",
     "text": [
      "Jegan\n",
      "30\n",
      "True\n"
     ]
    }
   ],
   "source": [
    "for item in user.values():\n",
    "    print(item)"
   ]
  },
  {
   "cell_type": "code",
   "execution_count": 9,
   "id": "231671f9",
   "metadata": {},
   "outputs": [
    {
     "name": "stdout",
     "output_type": "stream",
     "text": [
      "45\n"
     ]
    }
   ],
   "source": [
    "# Count program via loops\n",
    "my_list = [1, 2, 3, 4, 5, 6, 7, 8, 9]\n",
    "counter = 0\n",
    "for i in my_list:\n",
    "     counter += i\n",
    "print(counter)"
   ]
  },
  {
   "cell_type": "code",
   "execution_count": 11,
   "id": "6dd7dbe9",
   "metadata": {},
   "outputs": [
    {
     "name": "stdout",
     "output_type": "stream",
     "text": [
      "0\n"
     ]
    }
   ],
   "source": [
    "# range\n",
    "\n",
    "for i in range(0,10):\n",
    "    print(i)\n",
    "\n",
    "print    \n",
    "    "
   ]
  },
  {
   "cell_type": "code",
   "execution_count": 17,
   "id": "72d77162",
   "metadata": {},
   "outputs": [
    {
     "name": "stdout",
     "output_type": "stream",
     "text": [
      "0 0\n",
      "1 2\n",
      "2 4\n",
      "3 6\n",
      "4 8\n",
      "5 10\n",
      "6 12\n",
      "7 14\n",
      "8 16\n",
      "9 18\n"
     ]
    }
   ],
   "source": [
    "# Enumerate \n",
    "my_list = list(range(0,20,2))\n",
    "for i,char in enumerate(my_list):\n",
    "    print(i,char)"
   ]
  },
  {
   "cell_type": "code",
   "execution_count": 29,
   "id": "f74bae71",
   "metadata": {},
   "outputs": [
    {
     "name": "stdout",
     "output_type": "stream",
     "text": [
      "Hi Jegan, Welcome to the game !!!\n",
      "Hi Jonas, Game over !!!\n",
      "Hi Suji, Game Begins !!!\n",
      "Hi  Sexy, ❤️ !!!\n"
     ]
    }
   ],
   "source": [
    "# Functions \n",
    "             # Parameter\n",
    "def greating(name =\" Sexy\",msg = \"❤️\"):  # Default Parameter  \n",
    "    print(f\"Hi {name}, {msg} !!!\")\n",
    "\n",
    "greating(\"Jegan\",\"Welcome to the game\") # Possitional Arrgument \n",
    "greating(\"Jonas\",\"Game over\")           # Possitional Arrgument\n",
    "\n",
    "greating(msg=\"Game Begins\",name=\"Suji\") # Keyword Arrgument \n",
    "             \n",
    "greating()            "
   ]
  },
  {
   "cell_type": "code",
   "execution_count": 30,
   "id": "76151706",
   "metadata": {},
   "outputs": [
    {
     "name": "stdout",
     "output_type": "stream",
     "text": [
      "6000\n"
     ]
    }
   ],
   "source": [
    "def sum(num1,num2):\n",
    "    def another_function(n1,n2):\n",
    "        return n1*n2\n",
    "    return another_function(num1,num2)\n",
    "\n",
    "\n",
    "total = sum(20,30)\n",
    "print(sum(10,total))"
   ]
  },
  {
   "cell_type": "code",
   "execution_count": 31,
   "id": "41bd9a3c",
   "metadata": {},
   "outputs": [
    {
     "name": "stdout",
     "output_type": "stream",
     "text": [
      "HHIII!!!\n",
      "\n",
      "    This funtion is to print hiiii\n",
      "    \n"
     ]
    }
   ],
   "source": [
    "# Doc string\n",
    "def test(a):\n",
    "    '''\n",
    "    This funtion is to print hiiii\n",
    "    '''\n",
    "    print(a)\n",
    "\n",
    "test(\"HHIII!!!\")\n",
    "print(test.__doc__)"
   ]
  },
  {
   "cell_type": "code",
   "execution_count": 63,
   "id": "c8ef828b",
   "metadata": {},
   "outputs": [
    {
     "name": "stdout",
     "output_type": "stream",
     "text": [
      "jegan\n",
      "10\n"
     ]
    },
    {
     "ename": "TypeError",
     "evalue": "sum() missing 1 required positional argument: 'num2'",
     "output_type": "error",
     "traceback": [
      "\u001b[0;31m---------------------------------------------------------------------------\u001b[0m",
      "\u001b[0;31mTypeError\u001b[0m                                 Traceback (most recent call last)",
      "\u001b[0;32m/var/folders/s3/16rbxknd5pzckk_6rzf_r97h0000gn/T/ipykernel_59789/2109518502.py\u001b[0m in \u001b[0;36m<module>\u001b[0;34m\u001b[0m\n\u001b[1;32m     11\u001b[0m \u001b[0;34m\u001b[0m\u001b[0m\n\u001b[1;32m     12\u001b[0m \u001b[0;34m\u001b[0m\u001b[0m\n\u001b[0;32m---> 13\u001b[0;31m \u001b[0mprint\u001b[0m\u001b[0;34m(\u001b[0m\u001b[0msuper_function\u001b[0m\u001b[0;34m(\u001b[0m\u001b[0;34m\"jegan\"\u001b[0m\u001b[0;34m,\u001b[0m  \u001b[0;36m2\u001b[0m\u001b[0;34m,\u001b[0m \u001b[0;36m4\u001b[0m\u001b[0;34m,\u001b[0m \u001b[0;36m6\u001b[0m\u001b[0;34m,\u001b[0m \u001b[0;36m8\u001b[0m\u001b[0;34m,\u001b[0m \u001b[0;36m10\u001b[0m\u001b[0;34m,\u001b[0m \u001b[0mnum1\u001b[0m \u001b[0;34m=\u001b[0m \u001b[0;36m10\u001b[0m\u001b[0;34m,\u001b[0m \u001b[0mnum2\u001b[0m \u001b[0;34m=\u001b[0m \u001b[0;36m20\u001b[0m\u001b[0;34m,\u001b[0m \u001b[0mnum3\u001b[0m \u001b[0;34m=\u001b[0m \u001b[0;36m15\u001b[0m\u001b[0;34m)\u001b[0m\u001b[0;34m)\u001b[0m\u001b[0;34m\u001b[0m\u001b[0;34m\u001b[0m\u001b[0m\n\u001b[0m",
      "\u001b[0;32m/var/folders/s3/16rbxknd5pzckk_6rzf_r97h0000gn/T/ipykernel_59789/2109518502.py\u001b[0m in \u001b[0;36msuper_function\u001b[0;34m(name, a, *args, **kwargs)\u001b[0m\n\u001b[1;32m      8\u001b[0m     \u001b[0mprint\u001b[0m\u001b[0;34m(\u001b[0m\u001b[0mname\u001b[0m\u001b[0;34m)\u001b[0m\u001b[0;34m\u001b[0m\u001b[0;34m\u001b[0m\u001b[0m\n\u001b[1;32m      9\u001b[0m     \u001b[0mprint\u001b[0m\u001b[0;34m(\u001b[0m\u001b[0ma\u001b[0m\u001b[0;34m)\u001b[0m\u001b[0;34m\u001b[0m\u001b[0;34m\u001b[0m\u001b[0m\n\u001b[0;32m---> 10\u001b[0;31m     \u001b[0;32mreturn\u001b[0m \u001b[0msum\u001b[0m\u001b[0;34m(\u001b[0m\u001b[0margs\u001b[0m\u001b[0;34m)\u001b[0m \u001b[0;34m+\u001b[0m \u001b[0mtotal\u001b[0m\u001b[0;34m\u001b[0m\u001b[0;34m\u001b[0m\u001b[0m\n\u001b[0m\u001b[1;32m     11\u001b[0m \u001b[0;34m\u001b[0m\u001b[0m\n\u001b[1;32m     12\u001b[0m \u001b[0;34m\u001b[0m\u001b[0m\n",
      "\u001b[0;31mTypeError\u001b[0m: sum() missing 1 required positional argument: 'num2'"
     ]
    }
   ],
   "source": [
    "# *args and **kwarg\n",
    "# Order Rules: Parametes, *args , default arguments , **kwargs\n",
    "# No error nun in other complier\n",
    "def super_function(name, *args, a=10, **kwargs):\n",
    "    total = 0\n",
    "    for i in kwargs.values():\n",
    "        total += i\n",
    "    print(name)\n",
    "    print(a)\n",
    "    return sum(args) + total\n",
    "\n",
    "\n",
    "print(super_function(\"jegan\",  2, 4, 6, 8, 10, num1 = 10, num2 = 20, num3 = 15))"
   ]
  },
  {
   "cell_type": "code",
   "execution_count": null,
   "id": "2b7770fa",
   "metadata": {},
   "outputs": [],
   "source": [
    "# walrus operator\n",
    "\n",
    "word = \"Helloooooooooo\"\n",
    "if (n := len(word)) > 10:\n",
    "    print(f\"too much length, {n} elements\")\n",
    "\n",
    "while ((n := len(word)) > 1):\n",
    "    print(n)\n",
    "    word = word[:-1]"
   ]
  },
  {
   "cell_type": "code",
   "execution_count": null,
   "id": "0d2f83a2",
   "metadata": {},
   "outputs": [],
   "source": [
    "# Scope : what variable do i have access?\n",
    "# Rules : # 1. Local scope ?\n",
    "          # 2. Parent local scope?\n",
    "          # 3. Global?\n",
    "          # 4. Built in python function\n",
    "\n",
    "total = 10\n",
    "\n",
    "def count():\n",
    "    total = 7\n",
    "    def subi():\n",
    "        global total     # Global Keyword to access the total= 10\n",
    "        return total\n",
    "    return subi()\n",
    "\n",
    "print(count())"
   ]
  },
  {
   "cell_type": "code",
   "execution_count": null,
   "id": "179b30b4",
   "metadata": {},
   "outputs": [],
   "source": [
    "def outter():\n",
    "    x = \"Local\"\n",
    "    def inner():\n",
    "        nonlocal x           # nonlocal changes the parent variable\n",
    "        x = \"Non local\"\n",
    "        print(\"Inner:\", x)\n",
    "    inner()\n",
    "    print(\"Outter:\", x)\n",
    "\n",
    "outter()"
   ]
  },
  {
   "cell_type": "code",
   "execution_count": null,
   "id": "51b80ff3",
   "metadata": {},
   "outputs": [],
   "source": []
  }
 ],
 "metadata": {
  "kernelspec": {
   "display_name": "Python 3 (ipykernel)",
   "language": "python",
   "name": "python3"
  },
  "language_info": {
   "codemirror_mode": {
    "name": "ipython",
    "version": 3
   },
   "file_extension": ".py",
   "mimetype": "text/x-python",
   "name": "python",
   "nbconvert_exporter": "python",
   "pygments_lexer": "ipython3",
   "version": "3.9.7"
  }
 },
 "nbformat": 4,
 "nbformat_minor": 5
}
